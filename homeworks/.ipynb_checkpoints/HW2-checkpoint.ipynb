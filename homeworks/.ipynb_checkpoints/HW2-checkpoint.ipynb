{
 "cells": [
  {
   "cell_type": "markdown",
   "metadata": {},
   "source": [
    "# Homework 2\n",
    "\n",
    "This homework will get you start working with R. Before we do anything, run the following code:"
   ]
  },
  {
   "cell_type": "code",
   "execution_count": 156,
   "metadata": {},
   "outputs": [],
   "source": [
    "cat(Sys.info(),file=\"../other/hw2-info\")"
   ]
  },
  {
   "cell_type": "markdown",
   "metadata": {},
   "source": [
    "## Task 1\n",
    "\n",
    "Install and load the library [RUnit](https://cran.rstudio.com/web/packages/RUnit/index.html) in the cell below."
   ]
  },
  {
   "cell_type": "code",
   "execution_count": 157,
   "metadata": {},
   "outputs": [
    {
     "name": "stderr",
     "output_type": "stream",
     "text": [
      "Updating HTML index of packages in '.Library'\n",
      "Making 'packages.html' ... done\n"
     ]
    }
   ],
   "source": [
    "install.packages(\"RUnit\", repos='http://cran.us.r-project.org')"
   ]
  },
  {
   "cell_type": "markdown",
   "metadata": {},
   "source": [
    "## Task 2\n",
    "\n",
    "Read the documentation on the [distrubutions supported by R](https://stat.ethz.ch/R-manual/R-devel/library/stats/html/Distributions.html). Now, in the cell below write the code that takes a sample floating point numbers of size 2500 from the normal distribution with mean 1.0 and standard deviation 0.5. If your code is correct, the cell below will run without an error."
   ]
  },
  {
   "cell_type": "code",
   "execution_count": 158,
   "metadata": {},
   "outputs": [
    {
     "data": {
      "text/html": [
       "TRUE"
      ],
      "text/latex": [
       "TRUE"
      ],
      "text/markdown": [
       "TRUE"
      ],
      "text/plain": [
       "[1] TRUE"
      ]
     },
     "metadata": {},
     "output_type": "display_data"
    },
    {
     "data": {
      "text/html": [
       "<strong>D:</strong> TRUE"
      ],
      "text/latex": [
       "\\textbf{D:} TRUE"
      ],
      "text/markdown": [
       "**D:** TRUE"
      ],
      "text/plain": [
       "   D \n",
       "TRUE "
      ]
     },
     "metadata": {},
     "output_type": "display_data"
    }
   ],
   "source": [
    "xs <- rnorm(n = 2500, mean = 1, sd = 0.5)\n",
    "\n",
    "## Do not alter the code below\n",
    "\n",
    "checkEquals(length(xs),2500)\n",
    "checkTrue(ks.test(xs,rnorm(1000,mean=1.0,sd=0.5))$statistic < 0.05)"
   ]
  },
  {
   "cell_type": "markdown",
   "metadata": {},
   "source": [
    "Now, calculate the mean and standard deviation of the collection `xs` we defined above:"
   ]
  },
  {
   "cell_type": "code",
   "execution_count": 159,
   "metadata": {},
   "outputs": [
    {
     "data": {
      "text/html": [
       "0.987357883602172"
      ],
      "text/latex": [
       "0.987357883602172"
      ],
      "text/markdown": [
       "0.987357883602172"
      ],
      "text/plain": [
       "[1] 0.9873579"
      ]
     },
     "metadata": {},
     "output_type": "display_data"
    },
    {
     "data": {
      "text/html": [
       "0.497870512289902"
      ],
      "text/latex": [
       "0.497870512289902"
      ],
      "text/markdown": [
       "0.497870512289902"
      ],
      "text/plain": [
       "[1] 0.4978705"
      ]
     },
     "metadata": {},
     "output_type": "display_data"
    }
   ],
   "source": [
    "mean(xs)\n",
    "sd(xs)"
   ]
  },
  {
   "cell_type": "markdown",
   "metadata": {},
   "source": [
    "In the cell below, explain in plain words why the mean and deviation did not come out exactly 1.0 and 0.5."
   ]
  },
  {
   "cell_type": "markdown",
   "metadata": {},
   "source": [
    "*HERE GOES YOUR EXPLANATION*"
   ]
  },
  {
   "cell_type": "markdown",
   "metadata": {},
   "source": [
    "## Task 3\n",
    "\n",
    "Now, repeat what you have done above for the uniform distribution. Read the documentation first and then take a sample of 5000 numbers uniformly distributed between -1 and 1 below:"
   ]
  },
  {
   "cell_type": "code",
   "execution_count": 160,
   "metadata": {},
   "outputs": [
    {
     "data": {
      "text/html": [
       "TRUE"
      ],
      "text/latex": [
       "TRUE"
      ],
      "text/markdown": [
       "TRUE"
      ],
      "text/plain": [
       "[1] TRUE"
      ]
     },
     "metadata": {},
     "output_type": "display_data"
    },
    {
     "data": {
      "text/html": [
       "<strong>D:</strong> TRUE"
      ],
      "text/latex": [
       "\\textbf{D:} TRUE"
      ],
      "text/markdown": [
       "**D:** TRUE"
      ],
      "text/plain": [
       "   D \n",
       "TRUE "
      ]
     },
     "metadata": {},
     "output_type": "display_data"
    }
   ],
   "source": [
    "ys <- runif(n = 5000, min = -1, max = 1)\n",
    "\n",
    "## Do not alter the code below\n",
    "\n",
    "checkEquals(length(ys),5000)\n",
    "checkTrue(ks.test(ys,runif(1000,min=-1.0,max=1.0))$statistic < 0.05)"
   ]
  },
  {
   "cell_type": "markdown",
   "metadata": {},
   "source": [
    "Now, sketch a histogram of the collections `xs` and `ys` below:"
   ]
  },
  {
   "cell_type": "code",
   "execution_count": 161,
   "metadata": {},
   "outputs": [
    {
     "data": {
      "text/html": [
       "<strong>pdf:</strong> 2"
      ],
      "text/latex": [
       "\\textbf{pdf:} 2"
      ],
      "text/markdown": [
       "**pdf:** 2"
      ],
      "text/plain": [
       "pdf \n",
       "  2 "
      ]
     },
     "metadata": {},
     "output_type": "display_data"
    },
    {
     "data": {
      "text/html": [
       "TRUE"
      ],
      "text/latex": [
       "TRUE"
      ],
      "text/markdown": [
       "TRUE"
      ],
      "text/plain": [
       "[1] TRUE"
      ]
     },
     "metadata": {},
     "output_type": "display_data"
    }
   ],
   "source": [
    "png(file=\"../images/HW2-task3.png\")\n",
    "par(mfrow=c(2,1))\n",
    "# Do not alter the code above\n",
    "\n",
    "\n",
    "# Here goes your code for the histogram of xs\n",
    "hist(xs)\n",
    "# Here goes your code for the histogram of ys\n",
    "hist(ys)\n",
    "\n",
    "# Do not alter the code below\n",
    "dev.off()\n",
    "checkTrue(file.exists(\"../images/HW2-task3.png\"))"
   ]
  },
  {
   "cell_type": "markdown",
   "metadata": {},
   "source": [
    "In your own words, explain the difference between `xs` and `ys` in the cell below. How does this difference shows itself in the histograms."
   ]
  },
  {
   "cell_type": "markdown",
   "metadata": {},
   "source": [
    "*HERE GOES YOUR EXPLANATION*"
   ]
  },
  {
   "cell_type": "markdown",
   "metadata": {},
   "source": [
    "## Task 4\n",
    "\n",
    "Read the documentation on [sample](https://stat.ethz.ch/R-manual/R-devel/library/base/html/sample.html) and simulate throwing a biased coin with odds of getting a 'heads' against a 'tails' is 4 to 1."
   ]
  },
  {
   "cell_type": "code",
   "execution_count": 162,
   "metadata": {},
   "outputs": [
    {
     "data": {
      "text/plain": [
       "result\n",
       " 0  1 \n",
       "22 78 "
      ]
     },
     "metadata": {},
     "output_type": "display_data"
    }
   ],
   "source": [
    "result <- sample(c(0,1), 100, replace = TRUE, prob = c(.20,.80))\n",
    "# replace=TRUE makes sure that no element occurs twice and we have only 0 and 1 so replace should be TRUE.\n",
    "table(result)"
   ]
  },
  {
   "cell_type": "markdown",
   "metadata": {},
   "source": [
    "## Task 5\n",
    "\n",
    "R comes prepackaged with a large number of datasets. You can read about them [from here](https://stat.ethz.ch/R-manual/R-patched/library/datasets/html/00Index.html).  For this task, we are going to use [mtcars](https://stat.ethz.ch/R-manual/R-patched/library/datasets/html/mtcars.html) dataset.\n",
    "\n",
    "Our first subtask is to filter the data-set: In the cell below, filter `mtcars` such that we are left with only the data for the cars with 4 cyclinders or less."
   ]
  },
  {
   "cell_type": "code",
   "execution_count": 167,
   "metadata": {},
   "outputs": [
    {
     "data": {
      "text/html": [
       "<ol class=list-inline>\n",
       "\t<li>TRUE</li>\n",
       "\t<li>TRUE</li>\n",
       "\t<li>TRUE</li>\n",
       "\t<li>TRUE</li>\n",
       "\t<li>TRUE</li>\n",
       "\t<li>TRUE</li>\n",
       "\t<li>TRUE</li>\n",
       "\t<li>TRUE</li>\n",
       "\t<li>TRUE</li>\n",
       "\t<li>TRUE</li>\n",
       "\t<li>TRUE</li>\n",
       "</ol>\n"
      ],
      "text/latex": [
       "\\begin{enumerate*}\n",
       "\\item TRUE\n",
       "\\item TRUE\n",
       "\\item TRUE\n",
       "\\item TRUE\n",
       "\\item TRUE\n",
       "\\item TRUE\n",
       "\\item TRUE\n",
       "\\item TRUE\n",
       "\\item TRUE\n",
       "\\item TRUE\n",
       "\\item TRUE\n",
       "\\end{enumerate*}\n"
      ],
      "text/markdown": [
       "1. TRUE\n",
       "2. TRUE\n",
       "3. TRUE\n",
       "4. TRUE\n",
       "5. TRUE\n",
       "6. TRUE\n",
       "7. TRUE\n",
       "8. TRUE\n",
       "9. TRUE\n",
       "10. TRUE\n",
       "11. TRUE\n",
       "\n",
       "\n"
      ],
      "text/plain": [
       " [1] TRUE TRUE TRUE TRUE TRUE TRUE TRUE TRUE TRUE TRUE TRUE"
      ]
     },
     "metadata": {},
     "output_type": "display_data"
    }
   ],
   "source": [
    "\n",
    "subcollection <- mtcars[mtcars$cyl <= 4, ]\n",
    "# Do not alter the code below\n",
    "\n",
    "checkEquals(subcollection$cyl,rep(4,11))"
   ]
  },
  {
   "cell_type": "markdown",
   "metadata": {},
   "source": [
    "Now, calculate the average fuel efficiency for cars with 4 or less than 4 cylinders below."
   ]
  },
  {
   "cell_type": "code",
   "execution_count": 165,
   "metadata": {},
   "outputs": [
    {
     "ename": "ERROR",
     "evalue": "Error in checkEqualsNumeric(mean.mpg, 26.66, tolerance = 0.001): could not find function \"checkEqualsNumeric\"\n",
     "output_type": "error",
     "traceback": [
      "Error in checkEqualsNumeric(mean.mpg, 26.66, tolerance = 0.001): could not find function \"checkEqualsNumeric\"\nTraceback:\n"
     ]
    }
   ],
   "source": [
    "mean.mpg <- mean(subcollection$mpg)\n",
    "\n",
    "checkEqualsNumeric(mean.mpg, 26.66, tolerance = 0.001)"
   ]
  },
  {
   "cell_type": "markdown",
   "metadata": {},
   "source": [
    "## Task 6\n",
    "\n",
    "Read the documentation on [`aggregate`](https://stat.ethz.ch/R-manual/R-devel/library/stats/html/aggregate.html).  Using this function, calculate mean miles per galon for the `mtcars` datasets grouped by the number of cylinders."
   ]
  },
  {
   "cell_type": "code",
   "execution_count": 182,
   "metadata": {},
   "outputs": [
    {
     "data": {
      "text/html": [
       "<table>\n",
       "<thead><tr><th scope=col>numberOfCylinders</th><th scope=col>mpg</th><th scope=col>cyl</th><th scope=col>disp</th><th scope=col>hp</th><th scope=col>drat</th><th scope=col>wt</th><th scope=col>qsec</th><th scope=col>vs</th><th scope=col>am</th><th scope=col>gear</th><th scope=col>carb</th></tr></thead>\n",
       "<tbody>\n",
       "\t<tr><td>4        </td><td>26.66364 </td><td>4        </td><td>105.1364 </td><td> 82.63636</td><td>4.070909 </td><td>2.285727 </td><td>19.13727 </td><td>0.9090909</td><td>0.7272727</td><td>4.090909 </td><td>1.545455 </td></tr>\n",
       "\t<tr><td>6        </td><td>19.74286 </td><td>6        </td><td>183.3143 </td><td>122.28571</td><td>3.585714 </td><td>3.117143 </td><td>17.97714 </td><td>0.5714286</td><td>0.4285714</td><td>3.857143 </td><td>3.428571 </td></tr>\n",
       "\t<tr><td>8        </td><td>15.10000 </td><td>8        </td><td>353.1000 </td><td>209.21429</td><td>3.229286 </td><td>3.999214 </td><td>16.77214 </td><td>0.0000000</td><td>0.1428571</td><td>3.285714 </td><td>3.500000 </td></tr>\n",
       "</tbody>\n",
       "</table>\n"
      ],
      "text/latex": [
       "\\begin{tabular}{r|llllllllllll}\n",
       " numberOfCylinders & mpg & cyl & disp & hp & drat & wt & qsec & vs & am & gear & carb\\\\\n",
       "\\hline\n",
       "\t 4         & 26.66364  & 4         & 105.1364  &  82.63636 & 4.070909  & 2.285727  & 19.13727  & 0.9090909 & 0.7272727 & 4.090909  & 1.545455 \\\\\n",
       "\t 6         & 19.74286  & 6         & 183.3143  & 122.28571 & 3.585714  & 3.117143  & 17.97714  & 0.5714286 & 0.4285714 & 3.857143  & 3.428571 \\\\\n",
       "\t 8         & 15.10000  & 8         & 353.1000  & 209.21429 & 3.229286  & 3.999214  & 16.77214  & 0.0000000 & 0.1428571 & 3.285714  & 3.500000 \\\\\n",
       "\\end{tabular}\n"
      ],
      "text/markdown": [
       "\n",
       "numberOfCylinders | mpg | cyl | disp | hp | drat | wt | qsec | vs | am | gear | carb | \n",
       "|---|---|---|\n",
       "| 4         | 26.66364  | 4         | 105.1364  |  82.63636 | 4.070909  | 2.285727  | 19.13727  | 0.9090909 | 0.7272727 | 4.090909  | 1.545455  | \n",
       "| 6         | 19.74286  | 6         | 183.3143  | 122.28571 | 3.585714  | 3.117143  | 17.97714  | 0.5714286 | 0.4285714 | 3.857143  | 3.428571  | \n",
       "| 8         | 15.10000  | 8         | 353.1000  | 209.21429 | 3.229286  | 3.999214  | 16.77214  | 0.0000000 | 0.1428571 | 3.285714  | 3.500000  | \n",
       "\n",
       "\n"
      ],
      "text/plain": [
       "  numberOfCylinders mpg      cyl disp     hp        drat     wt       qsec    \n",
       "1 4                 26.66364 4   105.1364  82.63636 4.070909 2.285727 19.13727\n",
       "2 6                 19.74286 6   183.3143 122.28571 3.585714 3.117143 17.97714\n",
       "3 8                 15.10000 8   353.1000 209.21429 3.229286 3.999214 16.77214\n",
       "  vs        am        gear     carb    \n",
       "1 0.9090909 0.7272727 4.090909 1.545455\n",
       "2 0.5714286 0.4285714 3.857143 3.428571\n",
       "3 0.0000000 0.1428571 3.285714 3.500000"
      ]
     },
     "metadata": {},
     "output_type": "display_data"
    },
    {
     "ename": "ERROR",
     "evalue": "Error in checkEqualsNumeric(res$mpg, c(26.66, 19.74, 15.1), tolerance = 0.001): could not find function \"checkEqualsNumeric\"\n",
     "output_type": "error",
     "traceback": [
      "Error in checkEqualsNumeric(res$mpg, c(26.66, 19.74, 15.1), tolerance = 0.001): could not find function \"checkEqualsNumeric\"\nTraceback:\n"
     ]
    }
   ],
   "source": [
    "# mtcars[,\"cyl\"] or mtcars$cyl diff?\n",
    "res <- aggregate(mtcars, list(numberOfCylinders = mtcars$cyl), mean)\n",
    "res\n",
    "checkEqualsNumeric(res$mpg,c(26.66,19.74,15.1),tolerance = 0.001)"
   ]
  },
  {
   "cell_type": "markdown",
   "metadata": {},
   "source": [
    "## Task 7\n",
    "\n",
    "Read the documentation on [plot](https://stat.ethz.ch/R-manual/R-devel/library/graphics/html/plot.html) and make a line plot of the time series dataset [AirPassengers](https://stat.ethz.ch/R-manual/R-patched/library/datasets/html/AirPassengers.html).\n"
   ]
  },
  {
   "cell_type": "code",
   "execution_count": 189,
   "metadata": {},
   "outputs": [
    {
     "data": {
      "text/html": [
       "<strong>pdf:</strong> 2"
      ],
      "text/latex": [
       "\\textbf{pdf:} 2"
      ],
      "text/markdown": [
       "**pdf:** 2"
      ],
      "text/plain": [
       "pdf \n",
       "  2 "
      ]
     },
     "metadata": {},
     "output_type": "display_data"
    },
    {
     "data": {
      "text/html": [
       "TRUE"
      ],
      "text/latex": [
       "TRUE"
      ],
      "text/markdown": [
       "TRUE"
      ],
      "text/plain": [
       "[1] TRUE"
      ]
     },
     "metadata": {},
     "output_type": "display_data"
    }
   ],
   "source": [
    "png(file=\"../images/hw2-task7a.png\")\n",
    "# Do not alter the code above this line\n",
    "\n",
    "plot.ts(AirPassengers)\n",
    "\n",
    "# Do not alter the code below this line\n",
    "dev.off()\n",
    "checkTrue(file.exists(\"../images/hw2-task7a.png\"))"
   ]
  },
  {
   "cell_type": "markdown",
   "metadata": {},
   "source": [
    "Now, read the documentation on [pairs](https://stat.ethz.ch/R-manual/R-devel/library/graphics/html/pairs.html) and make a pairs plot of the [iris dataset](https://stat.ethz.ch/R-manual/R-patched/library/datasets/html/iris.html)."
   ]
  },
  {
   "cell_type": "code",
   "execution_count": 190,
   "metadata": {},
   "outputs": [
    {
     "data": {
      "text/html": [
       "<strong>pdf:</strong> 2"
      ],
      "text/latex": [
       "\\textbf{pdf:} 2"
      ],
      "text/markdown": [
       "**pdf:** 2"
      ],
      "text/plain": [
       "pdf \n",
       "  2 "
      ]
     },
     "metadata": {},
     "output_type": "display_data"
    },
    {
     "data": {
      "text/html": [
       "TRUE"
      ],
      "text/latex": [
       "TRUE"
      ],
      "text/markdown": [
       "TRUE"
      ],
      "text/plain": [
       "[1] TRUE"
      ]
     },
     "metadata": {},
     "output_type": "display_data"
    }
   ],
   "source": [
    "png(file=\"../images/hw2-task7b.png\")\n",
    "# Do not alter the code above this line\n",
    "\n",
    "pairs(iris)\n",
    "\n",
    "# Do not alter the code below this line\n",
    "dev.off()\n",
    "checkTrue(file.exists(\"../images/hw2-task7b.png\"))"
   ]
  },
  {
   "cell_type": "code",
   "execution_count": null,
   "metadata": {},
   "outputs": [],
   "source": []
  }
 ],
 "metadata": {
  "kernelspec": {
   "display_name": "R",
   "language": "R",
   "name": "ir"
  },
  "language_info": {
   "codemirror_mode": "r",
   "file_extension": ".r",
   "mimetype": "text/x-r-source",
   "name": "R",
   "pygments_lexer": "r",
   "version": "3.4.3"
  }
 },
 "nbformat": 4,
 "nbformat_minor": 2
}

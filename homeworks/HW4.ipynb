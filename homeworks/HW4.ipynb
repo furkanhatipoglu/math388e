{
 "cells": [
  {
   "cell_type": "markdown",
   "metadata": {},
   "source": [
    "# Homework 4\n",
    "\n",
    "Before you run your homework run the code below:"
   ]
  },
  {
   "cell_type": "code",
   "execution_count": 224,
   "metadata": {},
   "outputs": [],
   "source": [
    "import os\n",
    "import sys\n",
    "import hashlib\n",
    "import pandas as pd\n",
    "import numpy as np\n",
    "import glob\n",
    "import re\n",
    "from urllib.request import urlopen\n",
    "from sklearn.cluster import KMeans\n",
    "from sklearn.metrics import confusion_matrix\n",
    "from sklearn.model_selection import train_test_split\n",
    "from sklearn.neighbors import KNeighborsClassifier\n",
    "from sklearn.metrics import accuracy_score\n",
    "from collections import Counter\n",
    "from sklearn import datasets, linear_model\n",
    "\n",
    "\n",
    "assert os.path.exists('../homeworks/HW4.ipynb')\n",
    "\n",
    "info = sys.platform + '\\n' + sys.version + '\\n' + os.getcwd() + '\\n' + os.getlogin()\n",
    "name = hashlib.sha256(info.encode('utf-8')).hexdigest()\n",
    "with open('../other/hw-4-'+name,'w') as f:\n",
    "    f.write(info)"
   ]
  },
  {
   "cell_type": "code",
   "execution_count": 225,
   "metadata": {},
   "outputs": [],
   "source": [
    "with open('../other/hw-4-'+name,'r') as f:\n",
    "    info = f.read()\n",
    "name = hashlib.sha256(info.encode('utf-8')).hexdigest()\n",
    "assert os.path.exists('../other/hw-4-'+name)"
   ]
  },
  {
   "cell_type": "markdown",
   "metadata": {},
   "source": [
    "## Task\n",
    "\n",
    "Apply all of the supervised and unsupervised classification and clustering algorithms we learned so far for the [sonar dataset from UCI](http://archive.ics.uci.edu/ml/datasets/connectionist+bench+(sonar,+mines+vs.+rocks)).\n",
    "\n",
    "The code for downloading the data is below. Don't load the data again and again in each subtask, refer the data as `SONAR` after you run the cell below."
   ]
  },
  {
   "cell_type": "code",
   "execution_count": 226,
   "metadata": {},
   "outputs": [],
   "source": [
    "with urlopen(\"https://archive.ics.uci.edu/ml/machine-learning-databases/undocumented/connectionist-bench/sonar/sonar.all-data\") as fil:\n",
    "    SONAR = pd.read_csv(fil, delimiter=',', header=None)\n",
    "\n",
    "# datayi %25 test datasi olacak sekilde boluyoruz\n",
    "Xtrain, Xtest, Ytrain, Ytest = train_test_split(SONAR.iloc[:,0:60], SONAR.iloc[:,60], test_size=0.25)"
   ]
  },
  {
   "cell_type": "markdown",
   "metadata": {},
   "source": [
    "Split the tasks into subtasks and into separate cells.  Also before your analysis for each subtask, write a short paragraph before explaining which algorithm you are going to use. Each subtask should look like this"
   ]
  },
  {
   "cell_type": "markdown",
   "metadata": {},
   "source": [
    "## Subtask 1: K-Means"
   ]
  },
  {
   "cell_type": "markdown",
   "metadata": {},
   "source": [
    "- KMeans objemizi gerekli parametreler ile initialize edip model degiskenimize atadik, modelimize Xtrain datasini verdik. Daha sonrasinda Xtest datamizi kullanarak predict sonuclarimizi aldik. dikkat edilmesi gereken nokta KMeans datayi cluster'lara ayirip id verir. o id icin tahminde bulunup (bizim ornegimizde 1 numarali id'ye sahip cluster icin R, 0 numralari id'ye sahip cluster icin M) predicted datamiz ile karsilastirdik."
   ]
  },
  {
   "cell_type": "code",
   "execution_count": 227,
   "metadata": {},
   "outputs": [
    {
     "name": "stdout",
     "output_type": "stream",
     "text": [
      "[[13 12]\n",
      " [14 13]]\n",
      "0.5\n"
     ]
    }
   ],
   "source": [
    "\n",
    "model = KMeans(n_clusters=2, random_state=0)\n",
    "# model should be fit with train data\n",
    "model.fit(Xtrain)\n",
    "# predict with test data\n",
    "predicted = model.predict(Xtest)\n",
    "labels = {\"R\":1, \"M\":0}\n",
    "# accuracy sonucu asagidaki durumda daha kotu bunun sebebi label'lari yanlis tahmin etmis olmamiz\n",
    "# labels = {\"R\":0, \"M\":1}\n",
    "real = Ytest.map(lambda x: labels[x])\n",
    "cm = confusion_matrix(real,predicted)\n",
    "print(cm)\n",
    "accuracy = accuracy_score(real,predicted)\n",
    "\n",
    "print(accuracy)"
   ]
  },
  {
   "cell_type": "markdown",
   "metadata": {},
   "source": [
    "- KMeans unsupervised olmasi nedeni ile kotu bir sonuc verdi"
   ]
  },
  {
   "cell_type": "markdown",
   "metadata": {},
   "source": [
    "## Subtask 2: KNN"
   ]
  },
  {
   "cell_type": "markdown",
   "metadata": {},
   "source": [
    "- KMeans orneginde oldugu gibi KNN objesine initialzie edip model degiskenimize atadik. Komsuluk sayisi icin 5 vermemin sebebi tek sayida KNN algoritmasinin daha verimli calismasi."
   ]
  },
  {
   "cell_type": "code",
   "execution_count": 228,
   "metadata": {},
   "outputs": [
    {
     "name": "stdout",
     "output_type": "stream",
     "text": [
      "[[22  3]\n",
      " [ 9 18]]\n",
      "0.7692307692307693\n"
     ]
    }
   ],
   "source": [
    "model = KNeighborsClassifier(n_neighbors=5)\n",
    "model.fit(Xtrain,Ytrain)\n",
    "predicted = model.predict(Xtest)\n",
    "cm = confusion_matrix(Ytest,predicted)\n",
    "print(cm)\n",
    "accuracy = accuracy_score(Ytest,predicted)\n",
    "print(accuracy)"
   ]
  },
  {
   "cell_type": "markdown",
   "metadata": {},
   "source": [
    "- Supervised olmasi nedeni ile KMeans'e kiyasla cok daha iyi bir accuracy degerimiz oldu"
   ]
  },
  {
   "cell_type": "markdown",
   "metadata": {},
   "source": [
    "## Subtask 3: Naive Bayes Classifier\n"
   ]
  },
  {
   "cell_type": "markdown",
   "metadata": {},
   "source": [
    "- Daha once Naive Bayes icin gerekli kutuphaneleri import etmedigimiz icin ilk satirda gerekli kutuphaneleri import ettik. Daha onceki ornekte oldugu gibi nesneye initialize edip degiskenimize atadik ve benzer sekilde modelimizi olusturup, predict edip accuray sonucu aldik."
   ]
  },
  {
   "cell_type": "code",
   "execution_count": 229,
   "metadata": {},
   "outputs": [
    {
     "name": "stdout",
     "output_type": "stream",
     "text": [
      "[[14 11]\n",
      " [ 6 21]]\n",
      "0.6730769230769231\n"
     ]
    }
   ],
   "source": [
    "from sklearn.naive_bayes import GaussianNB\n",
    "\n",
    "# create naive bayes classifier\n",
    "gaunb = GaussianNB()\n",
    "\n",
    "# train classifier with dataset\n",
    "gaunb = gaunb.fit(Xtrain, Ytrain)\n",
    "\n",
    "# predict using classifier\n",
    "predicted = gaunb.predict(Xtest)\n",
    "cm = confusion_matrix(Ytest,predicted)\n",
    "print(cm)\n",
    "accuracy = accuracy_score(Ytest,predicted)\n",
    "print(accuracy)"
   ]
  },
  {
   "cell_type": "markdown",
   "metadata": {},
   "source": [
    "- KNN kadar iyi accuracy sonucu vermese de supervised olmasi nedeni ile KMeans'den cok daha iyi sonuc elde ettik."
   ]
  },
  {
   "cell_type": "markdown",
   "metadata": {},
   "source": [
    "## Subtask 4: Linear Regression\n",
    "\n"
   ]
  },
  {
   "cell_type": "code",
   "execution_count": 230,
   "metadata": {},
   "outputs": [],
   "source": [
    "# model = linear_model.LinearRegression()\n",
    "\n",
    "# Train the model using the training sets\n",
    "# Ytrain2 = Ytrain.replace(to_replace=['M', 'R'], value=[0, 1])\n",
    "# Ytest2 = Ytest.replace(to_replace=['M', 'R'], value=[0, 1])\n",
    "# model.fit(Xtrain, Ytrain)\n",
    "\n",
    "# Make predictions using the testing set\n",
    "# predicted = model.predict(Ytest)\n",
    "# print(predicted)\n",
    "# cm = confusion_matrix(Ytest,predicted)\n",
    "# print(cm)\n",
    "# accuracy = accuracy_score(Ytest,predicted)\n",
    "# print(accuracy)\n",
    "# ValueError: could not convert string to float: 'M'"
   ]
  },
  {
   "cell_type": "markdown",
   "metadata": {},
   "source": [
    "- Elimizdeki data herhangi bir cizgi icin sureklilik saglamadigi icin Liner  methodu ile uyumlu degildir."
   ]
  },
  {
   "cell_type": "markdown",
   "metadata": {},
   "source": [
    "## Subtask 5: Hiearchical Clustering"
   ]
  },
  {
   "cell_type": "markdown",
   "metadata": {},
   "source": [
    "- KMeans yonteminde oldugu gibi datamizi train edip, label id'lerine R ve M dedik ve predict sonuclarimizdan accuracy degerimizi hesapladik."
   ]
  },
  {
   "cell_type": "code",
   "execution_count": 237,
   "metadata": {},
   "outputs": [
    {
     "name": "stdout",
     "output_type": "stream",
     "text": [
      "[[56 30]\n",
      " [52 18]]\n",
      "0.47435897435897434\n"
     ]
    },
    {
     "data": {
      "image/png": "[encoded data removed]",
      "text/plain": [
       "<Figure size 1728x864 with 1 Axes>"
      ]
     },
     "metadata": {},
     "output_type": "display_data"
    }
   ],
   "source": [
    "from sklearn.cluster import AgglomerativeClustering\n",
    "from scipy.cluster.hierarchy import linkage, dendrogram ,cut_tree\n",
    "import matplotlib.pyplot as plt\n",
    "\n",
    "model = AgglomerativeClustering(n_clusters=2)  \n",
    "predicted = model.fit_predict(Xtrain)\n",
    "\n",
    "labels = {\"R\":1, \"M\":0}\n",
    "\n",
    "real = Ytrain.map(lambda x: labels[x])\n",
    "cm = confusion_matrix(real,predicted)\n",
    "print(cm)\n",
    "accuracy = accuracy_score(real,predicted)\n",
    "\n",
    "print(accuracy)\n",
    "\n",
    "merg = linkage(Xtrain,method=\"ward\")\n",
    "cut_tree(n_clusters=2,Z=merg)\n",
    "plt.figure(figsize=[24,12])\n",
    "dendrogram(merg,leaf_rotation = 90)\n",
    "plt.xlabel(\"Data noktalari\")\n",
    "plt.ylabel(\"Euclidean uzaklik\")\n",
    "plt.show()"
   ]
  },
  {
   "cell_type": "markdown",
   "metadata": {},
   "source": [
    "- Hiearchical Clustering methodu da KMeans kotu bir accuracy sonucu verdi"
   ]
  },
  {
   "cell_type": "markdown",
   "metadata": {},
   "source": [
    "## Subtask 6 : Logistic Regression"
   ]
  },
  {
   "cell_type": "code",
   "execution_count": 232,
   "metadata": {},
   "outputs": [
    {
     "name": "stdout",
     "output_type": "stream",
     "text": [
      "[[21  4]\n",
      " [ 6 21]]\n",
      "0.8461538461538461\n"
     ]
    },
    {
     "name": "stderr",
     "output_type": "stream",
     "text": [
      "/Users/furkanhatipoglu/anaconda3/lib/python3.6/site-packages/sklearn/linear_model/logistic.py:432: FutureWarning: Default solver will be changed to 'lbfgs' in 0.22. Specify a solver to silence this warning.\n",
      "  FutureWarning)\n"
     ]
    }
   ],
   "source": [
    "from sklearn import preprocessing\n",
    "from sklearn.linear_model import LogisticRegression\n",
    "\n",
    "model = LogisticRegression(random_state=0)\n",
    "model.fit(Xtrain, Ytrain)\n",
    "predicted = model.predict(Xtest)\n",
    "cm = confusion_matrix(Ytest, predicted)\n",
    "print(cm)\n",
    "print(classifier.score(Xtest, Ytest))"
   ]
  },
  {
   "cell_type": "markdown",
   "metadata": {},
   "source": [
    "- Logistic regression classifier degil, probability estimator oldugu icin accuracy degerimiz iyi bir sonuc verdi."
   ]
  }
 ],
 "metadata": {
  "kernelspec": {
   "display_name": "Python 3",
   "language": "python",
   "name": "python3"
  },
  "language_info": {
   "codemirror_mode": {
    "name": "ipython",
    "version": 3
   },
   "file_extension": ".py",
   "mimetype": "text/x-python",
   "name": "python",
   "nbconvert_exporter": "python",
   "pygments_lexer": "ipython3",
   "version": "3.6.5"
  }
 },
 "nbformat": 4,
 "nbformat_minor": 2
}

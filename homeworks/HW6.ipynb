{
 "cells": [
  {
   "cell_type": "markdown",
   "metadata": {},
   "source": [
    "# Homework 6\n",
    "\n",
    "\n",
    "## EMNIST Dataset\n",
    "\n",
    "[EMNIST dataset](https://www.nist.gov/itl/iad/image-group/emnist-dataset) is a set of hand-written characters and digits. Each of the data points is a grayscale image of size 28x28 pixels.  The structure of the dataset is the same as the infamous [MNIST](http://yann.lecun.com/exdb/mnist/) dataset, but this dataset contains more samples and also contains characters. You can find more information on the dataset in the paper available at [https://arxiv.org/abs/1702.05373v1](https://arxiv.org/abs/1702.05373v1)\n",
    "\n",
    "You can find the dataset you need [at this link](https://www.dropbox.com/sh/vgap8ici7xs5w7f/AACE-9RrDpbGCc6bP72gHRfUa?dl=0).  Please download and use your local copy to do the homework.\n",
    "\n",
    "## Task 1\n",
    "\n",
    "Ingest the data (both the train and test sets) into this pyhthon notebook as a numpy array.\n",
    "\n",
    "\n",
    "## Task 2\n",
    "\n",
    "Write a convolutional artifial neural network model, train it and test it.\n",
    "\n",
    "\n",
    "## Notes\n",
    "\n",
    "1. You need to document each of your steps in both the ingestion phase and processing phase: explain the steps taken, the problems you encounter, how you solved them.\n",
    "\n",
    "2. DO NOT write python classes.  In other words, I do not want to see `__init__` or `__main__` in your code.  They are hard to follow (as they contain mutable state) and hard to port to future code you might write on a similar project.\n",
    "\n",
    "3. When you upload your solution to github, DO NOT include the datasets. They are large and I already have copies. I can test your models on the copy I have."
   ]
  },
  {
   "cell_type": "code",
   "execution_count": null,
   "metadata": {},
   "outputs": [],
   "source": []
  },
  {
   "cell_type": "code",
   "execution_count": 49,
   "metadata": {},
   "outputs": [],
   "source": [
    "import pandas as pd\n",
    "import numpy as np\n",
    "from sklearn import svm\n",
    "from sklearn.metrics import confusion_matrix\n",
    "from sklearn.metrics import classification_report\n",
    "from sklearn.model_selection import train_test_split\n",
    "\n",
    "from sklearn.preprocessing import Normalizer\n",
    "\n",
    "from keras.models import Sequential\n",
    "from keras.layers import Dense, LSTM, Dropout, Conv1D, Conv2D, Flatten, MaxPooling2D\n",
    "from keras.optimizers import Adam, Adamax, RMSprop, SGD\n",
    "\n",
    "import keras.backend as K\n",
    "import keras as keras"
   ]
  },
  {
   "cell_type": "code",
   "execution_count": 50,
   "metadata": {},
   "outputs": [
    {
     "name": "stdout",
     "output_type": "stream",
     "text": [
      "[[0 0 0 ... 0 0 0]\n",
      " [0 0 0 ... 0 0 0]\n",
      " [0 0 0 ... 0 0 0]\n",
      " ...\n",
      " [0 0 0 ... 0 0 0]\n",
      " [0 0 0 ... 0 0 0]\n",
      " [0 0 0 ... 0 0 0]]\n"
     ]
    }
   ],
   "source": [
    "from mlxtend.data import loadlocal_mnist\n",
    "\n",
    "x_train, y_train = loadlocal_mnist(images_path = '/Users/furkanhatipoglu/Desktop/EMNIST/emnist-balanced-train-images-idx3-ubyte', labels_path = '/Users/furkanhatipoglu/Desktop/EMNIST/emnist-balanced-train-labels-idx1-ubyte')\n",
    "x_test, y_test = loadlocal_mnist(images_path = '/Users/furkanhatipoglu/Desktop/EMNIST/emnist-balanced-test-images-idx3-ubyte', labels_path = '/Users/furkanhatipoglu/Desktop/EMNIST/emnist-balanced-test-labels-idx1-ubyte')\n",
    "print(x_test)"
   ]
  },
  {
   "cell_type": "code",
   "execution_count": 51,
   "metadata": {},
   "outputs": [
    {
     "name": "stdout",
     "output_type": "stream",
     "text": [
      "Epoch 1/10\n",
      "112800/112800 [==============================] - 86s 762us/step - loss: 1.6831 - acc: 0.6901\n",
      "Epoch 2/10\n",
      "112800/112800 [==============================] - 85s 757us/step - loss: 1.2570 - acc: 0.7982\n",
      "Epoch 3/10\n",
      "112800/112800 [==============================] - 85s 751us/step - loss: 1.2142 - acc: 0.8160\n",
      "Epoch 4/10\n",
      "112800/112800 [==============================] - 84s 748us/step - loss: 1.1744 - acc: 0.8285\n",
      "Epoch 5/10\n",
      "112800/112800 [==============================] - 84s 749us/step - loss: 1.1509 - acc: 0.8370\n",
      "Epoch 6/10\n",
      "112800/112800 [==============================] - 83s 737us/step - loss: 1.1113 - acc: 0.8446\n",
      "Epoch 7/10\n",
      "112800/112800 [==============================] - 88s 777us/step - loss: 1.1011 - acc: 0.8491\n",
      "Epoch 8/10\n",
      "112800/112800 [==============================] - 88s 776us/step - loss: 1.0786 - acc: 0.8540\n",
      "Epoch 9/10\n",
      "112800/112800 [==============================] - 88s 777us/step - loss: 1.0725 - acc: 0.8563\n",
      "Epoch 10/10\n",
      "112800/112800 [==============================] - 96s 855us/step - loss: 1.0558 - acc: 0.8609\n"
     ]
    },
    {
     "data": {
      "text/plain": [
       "<keras.callbacks.History at 0x1a1a07f5f8>"
      ]
     },
     "execution_count": 51,
     "metadata": {},
     "output_type": "execute_result"
    }
   ],
   "source": [
    "y_train = keras.utils.to_categorical(y_train)\n",
    "\n",
    "# Sequential model objesi yaratalım\n",
    "model = Sequential()\n",
    "# Modelimize bir 2 boyutlu Convolutional katman(layer) ekleyelim.\n",
    "model.add(Conv2D(64, (4,4), input_shape=(28,28,1,), activation='tanh'))\n",
    "# Keras’ın Dense layer tipinde yapay sinir agi olusturalim.\n",
    "model.add(Dense(32,activation='relu'))\n",
    "# Weightleri ceyregine düşüren bir Droput katmanı ekliyoruz.Neural Network’lerde overfitting’i engellemek için icat edilmiş basit bir yöntem\n",
    "model.add(Dropout(0.25))\n",
    "# MaxPooling işlemi, verimizden, verilen pool_size boyutunda kümeler alıp bu kümeler içerisindeki en büyük değerleri kullanarak yeni bir matris oluşturur.\n",
    "model.add(MaxPooling2D(pool_size=(2,2)))\n",
    "# Genellikle Convolutional bölümün sonuna konan Flatten metodu çok boyutlu olan verimizi tek boyutlu hale getirerek standart yapay sinir ağı için hazır hale getirir.\n",
    "model.add(Flatten())\n",
    "# Farkli bir activation yapay sinir agi olusturalim tekrar\n",
    "model.add(Dense(47, activation='sigmoid'))\n",
    "# Weightleri tekrar dusurelim\n",
    "model.add(Dropout(0.05))\n",
    "# modelimizi compile edelim\n",
    "model.compile(loss='categorical_crossentropy', metrics=['accuracy'], optimizer='RMSProp')\n",
    "# ve modelimizi kullanalim \n",
    "model.fit(x_train.reshape(len(x_train),28,28,1), y_train, batch_size=512, epochs=10)"
   ]
  },
  {
   "cell_type": "code",
   "execution_count": null,
   "metadata": {},
   "outputs": [],
   "source": []
  }
 ],
 "metadata": {
  "kernelspec": {
   "display_name": "Python 3",
   "language": "python",
   "name": "python3"
  },
  "language_info": {
   "codemirror_mode": {
    "name": "ipython",
    "version": 3
   },
   "file_extension": ".py",
   "mimetype": "text/x-python",
   "name": "python",
   "nbconvert_exporter": "python",
   "pygments_lexer": "ipython3",
   "version": "3.6.5"
  }
 },
 "nbformat": 4,
 "nbformat_minor": 2
}
